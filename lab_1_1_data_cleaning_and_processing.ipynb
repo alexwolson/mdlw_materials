{
 "cells": [
  {
   "metadata": {
    "id": "52e575b17eac4f55"
   },
   "cell_type": "markdown",
   "source": [
    "# AI Workshop - Lab 1-1: Data Cleaning and Processing\n",
    "\n",
    "## Introduction\n",
    "\n",
    "Welcome to the first lab of the Machine Learning workshop! In this session, we will explore the foundational steps of data cleaning and processing. We'll work with a dataset focusing on energy forecasting—an area where machine learning has high potential to support renewable energy transitions.\n",
    "\n",
    "### Energy Market Forecasting Dataset\n",
    "\n",
    "This dataset provides 4 years of data on electrical consumption, generation, pricing, and weather conditions for Spain. It includes:\n",
    "\n",
    "- Energy consumption and generation: Data retrieved from ENTSOE, a public portal for Transmission Service Operator (TSO) data.\n",
    "- Settlement prices: Data obtained from the Spanish TSO, Red Eléctrica España.\n",
    "- Weather data: Sourced from the Open Weather API for the five largest cities in Spain.\n",
    "\n",
    "This dataset is ideal for practicing preprocessing techniques because it integrates multiple data types (time series, categorical, and numerical). Forecasting energy trends from this data represents a real-world challenge with significant practical applications.\n",
    "\n",
    "### Scikit-Learn\n",
    "\n",
    "Scikit-Learn is a powerful Python library for machine learning. It includes tools for data preprocessing, model building, and evaluation. In this lab, we'll use Scikit-Learn alongside Pandas to:\n",
    "\n",
    "- Inspect the dataset.\n",
    "- Handle missing values.\n",
    "- Prepare the data for machine learning models.\n",
    "\n",
    "Let’s start by loading the dataset and inspecting it with Pandas to understand its structure and identify preprocessing needs!"
   ],
   "id": "52e575b17eac4f55"
  },
  {
   "metadata": {
    "id": "ae460e587298af8e"
   },
   "cell_type": "code",
   "source": [
    "!pip install -Uq \"ydata-profiling[notebook]\""
   ],
   "id": "ae460e587298af8e",
   "outputs": [],
   "execution_count": null
  },
  {
   "cell_type": "code",
   "id": "initial_id",
   "metadata": {
    "collapsed": true,
    "id": "initial_id"
   },
   "source": [
    "import pandas as pd\n",
    "\n",
    "energy_dataset = pd.read_csv('data/energy_dataset.csv')\n",
    "weather_features = pd.read_csv('data/weather_features.csv')\n",
    "# Rename `dt_iso` column to `time` for consistency\n",
    "weather_features = weather_features.rename(columns={'dt_iso': 'time'})"
   ],
   "outputs": [],
   "execution_count": null
  },
  {
   "metadata": {
    "colab": {
     "base_uri": "https://localhost:8080/",
     "height": 412
    },
    "id": "cc6a3f76a00f3ff",
    "outputId": "0e66077f-bc5f-4f51-8741-8895a41495fc"
   },
   "cell_type": "code",
   "source": [
    "# Look at some of the data\n",
    "energy_dataset.head()"
   ],
   "id": "cc6a3f76a00f3ff",
   "outputs": [],
   "execution_count": null
  },
  {
   "metadata": {
    "colab": {
     "base_uri": "https://localhost:8080/",
     "height": 313
    },
    "id": "985325085cf07f56",
    "outputId": "825a32a9-479e-4434-98aa-01acca1df14e"
   },
   "cell_type": "code",
   "source": [
    "weather_features.head()"
   ],
   "id": "985325085cf07f56",
   "outputs": [],
   "execution_count": null
  },
  {
   "metadata": {
    "id": "945b71cc97e9519f"
   },
   "cell_type": "markdown",
   "source": [
    "Take a moment to familiarize yourself with the contents of the dataset. Try to answer some of the following questions. If you are new to Python, work in a group with someone who has familiarity with Python, or ask for help!\n",
    "\n",
    "1. What cities are included in the weather data?\n",
    "2. What are the columns in the energy dataset?\n",
    "3. Do any of the datasets contain missing values?"
   ],
   "id": "945b71cc97e9519f"
  },
  {
   "metadata": {
    "colab": {
     "base_uri": "https://localhost:8080/"
    },
    "id": "32e81c19fccae62f",
    "outputId": "e08f3223-2b37-4f13-fed8-318c55d20257"
   },
   "cell_type": "code",
   "source": [
    "print(f'Cities in the weather data: {weather_features.city_name.unique()}')\n",
    "print(f'Columns in the energy dataset: {energy_dataset.columns}')\n",
    "print(f'Missing values in the energy dataset: {energy_dataset.isnull().sum()}')\n",
    "print(f'Missing values in the weather data: {weather_features.isnull().sum()}')"
   ],
   "id": "32e81c19fccae62f",
   "outputs": [],
   "execution_count": null
  },
  {
   "metadata": {
    "id": "db2539ace3f31411"
   },
   "cell_type": "markdown",
   "source": [
    "We can also visualize many of the columns in the dataset to get a sense of the distribution of the data. In Google Colab this is as easy as printing out a column, but in other cases you may need to use a plotting library like Matplotlib or Seaborn. Let's start by looking at the distribution of the `generation solar` column in the energy dataset:"
   ],
   "id": "db2539ace3f31411"
  },
  {
   "metadata": {
    "colab": {
     "base_uri": "https://localhost:8080/",
     "height": 472
    },
    "id": "b2a9aff593087a50",
    "outputId": "2124d619-9707-46bf-9976-8d6e14734590"
   },
   "cell_type": "code",
   "source": [
    "import matplotlib.pyplot as plt\n",
    "\n",
    "# Plot the distribution of the generation solar column against time (hour)\n",
    "\n",
    "energy_dataset['time'] = pd.to_datetime(energy_dataset['time'], utc=True)\n",
    "energy_dataset['hour'] = energy_dataset['time'].dt.hour\n",
    "energy_dataset.plot(x='hour', y='generation solar', kind='scatter')\n",
    "plt.title('Solar Generation by Hour')\n",
    "plt.show()"
   ],
   "id": "b2a9aff593087a50",
   "outputs": [],
   "execution_count": null
  },
  {
   "metadata": {
    "id": "7bb4b609c94659ce"
   },
   "cell_type": "markdown",
   "source": [
    "### ydata-profiling\n",
    "\n",
    "The `ydata-profiling` library is a powerful tool for generating detailed reports on the structure and contents of a dataset. It provides a quick way to understand the distribution of data, identify missing values, and detect potential issues. Let's use `ydata-profiling` to generate a report on the energy dataset:\n",
    "\n",
    "_(Note: If the report doesn't seem to render properly in Google Colab, you can download the HTML file and open it in your browser.)_"
   ],
   "id": "7bb4b609c94659ce"
  },
  {
   "metadata": {
    "colab": {
     "base_uri": "https://localhost:8080/",
     "height": 1000,
     "referenced_widgets": [
      "66be74f6a8014db3adeb1470c0af8ddd",
      "46b6a92baa174f74a9079028863f598a",
      "de1a4d889a0346f9a6a955d0760a8da9",
      "831265b564004ad59ef7a8e0c438b9a9",
      "cdbe01f612c94daea921909ffce25c89",
      "e908ebc4ed144abaa4c08a6867e5e3df",
      "0a7beb4dcd304749bc261d99d3f1591a",
      "91a7139c12ae49c2b532230fbd2699e3",
      "10d7774495d94e29ba42c007688bfcc7",
      "ccab7ba55a4146bd85b2530b7ae54b9b",
      "13249176b4964b37ab5fe67a21fe5582",
      "b180e15be1b8449c989036b8102e8930",
      "0ca7336743fe40cd990aab721bca45b6",
      "0c429c97cbb4413088873e3b2d5fe940",
      "032d6c430ec0498e9d10e84604a4005e",
      "a05f1467d86145c598f4251efd914d05",
      "9420cad022e84379b39d5db5f04a4a42",
      "f4c50966d8c04e6ba5b2a3e3db20bf6c",
      "47d98efd78de441ba02b9f576007d2b0",
      "8d46e2432a564a41851eab61df426ebe",
      "bedae0d98fcb440e9f4faf59558ccd64",
      "1a706ea8fd224571874134c4cf0e9f01",
      "a92088bb235d44bd8694789c504ea860",
      "b6af65ca3a424b52af1d043663842300",
      "ff34f02c54ff48cb8d12d2725ec77bcc",
      "0c900d680ad94e55b52b6a90a6727917",
      "2a327caa2e81489f8f7222c613b346c7",
      "9950913d48ae476ba23ea5eafca554f8",
      "29bf23c8614741dba46433165db71b5a",
      "f731f007f217413cbc900e4efabb851e",
      "50ab11adf714450e8a5ac4f66f11b811",
      "7d76b1f2d0624de4ba385398c315bc8c",
      "a4bfab0cac3542ecbf86d51b9e985677",
      "4052af74354c4198ba7feeaa8e2c20cf",
      "f3fe3b082df3455eb2b5d29adec98bf9",
      "f2dbdc4179924b9a8ebed1eb4e286c9e",
      "5ad19bbeb30546dea6533f6ddef24836",
      "e129cd9d204f42009146fdbc782cf3af",
      "425c190f6fe04f3e9e5f95e38c9eeee2",
      "416de6a5baf44b38b058c3487bbaec74",
      "36cae77d174a4476aa96a87fa51cbde7",
      "79f04d82ee124c20bd02cdeb9186f055",
      "0b5387fbc3b64f4eb2c4de8cda53ddda",
      "52805978a246479aa6ed7f03f6cb77ff"
     ]
    },
    "id": "5ba69e2529f6e540",
    "outputId": "2cac9dfe-6959-4543-bfcf-137b47bc07f3"
   },
   "cell_type": "code",
   "source": [
    "from ydata_profiling import ProfileReport\n",
    "\n",
    "profile = ProfileReport(energy_dataset, title='Energy Dataset Profiling Report', explorative=True)\n",
    "profile.to_file('energy_dataset_profile.html')\n",
    "profile.to_notebook_iframe()"
   ],
   "id": "5ba69e2529f6e540",
   "outputs": [],
   "execution_count": null
  },
  {
   "metadata": {
    "id": "d099f90bee9a208"
   },
   "cell_type": "markdown",
   "source": [
    "The profiling report provides a detailed overview of the dataset, including:\n",
    "\n",
    "- The number of variables and observations.\n",
    "- The presence of missing values.\n",
    "- The distribution of numerical and categorical variables.\n",
    "- The correlation between variables.\n",
    "\n",
    "From this, you should be able to see that there are a few columns that always have a value of 0, indicating that they aren't being used. We will remove these later on."
   ],
   "id": "d099f90bee9a208"
  },
  {
   "metadata": {
    "id": "5d9413f98e502d4a"
   },
   "cell_type": "code",
   "source": [
    "# Reload the initial data so we can do pre-processing\n",
    "energy_dataset = pd.read_csv('data/energy_dataset.csv')\n",
    "weather_features = pd.read_csv('data/weather_features.csv')\n",
    "# Rename `dt_iso` column to `time` for consistency\n",
    "weather_features = weather_features.rename(columns={'dt_iso': 'time'})"
   ],
   "id": "5d9413f98e502d4a",
   "outputs": [],
   "execution_count": null
  },
  {
   "metadata": {
    "id": "9907401953993f02"
   },
   "cell_type": "markdown",
   "source": [
    "## Data Pre-Processing\n",
    "\n",
    "Now that we have a better understanding of the dataset, we can start preparing the data for machine learning. This involves several steps, including:\n",
    "\n",
    "1. Normalizing the data\n",
    "2. Converting non-numeric data to numeric data\n",
    "3. Handling missing values\n",
    "4. Splitting the data into features and labels\n",
    "\n",
    "Let's start with normalizing the data. As you have seen, our dataset contains a number of numerical columns that operate on different ranges. Depending on the machine learning model, this can pose a problem! Simply put, if you had no information about the data, which of the following would you think was more important:\n",
    "\n",
    "- A column that ranges from 0 to 1\n",
    "- A column that ranges from 0 to 1000?\n",
    "\n",
    "By normalizing the data we can ensure that all of the columns are treated equally by the model. We can normalize the data by subtracting the mean and dividing by the standard deviation. This will ensure that the data has a mean of 0 and a standard deviation of 1. Let's normalize the data now:"
   ],
   "id": "9907401953993f02"
  },
  {
   "metadata": {
    "id": "e2d931cfd48f9ebd"
   },
   "cell_type": "code",
   "source": [
    "for column in energy_dataset.columns:\n",
    "    if column != 'time' and energy_dataset[column].dtype != 'object':\n",
    "        energy_dataset[column] = (energy_dataset[column] - energy_dataset[column].mean()) / energy_dataset[column].std()\n",
    "\n",
    "for column in weather_features.columns:\n",
    "    if column != 'time' and weather_features[column].dtype != 'object':\n",
    "        weather_features[column] = (weather_features[column] - weather_features[column].mean()) / weather_features[column].std()"
   ],
   "id": "e2d931cfd48f9ebd",
   "outputs": [],
   "execution_count": null
  },
  {
   "metadata": {
    "colab": {
     "base_uri": "https://localhost:8080/",
     "height": 412
    },
    "id": "a7e42b9090751217",
    "outputId": "5077e11e-feb1-4a03-e0d0-40093cad621f"
   },
   "cell_type": "code",
   "source": [
    "# Look at the normalized data\n",
    "energy_dataset.head()"
   ],
   "id": "a7e42b9090751217",
   "outputs": [],
   "execution_count": null
  },
  {
   "metadata": {
    "id": "8c6dbb701e57e4ac"
   },
   "cell_type": "markdown",
   "source": [
    "There is one other thing we need to do before we can move forward. The model we will build requires that all of the data be numeric, but we have a few columns with text in them. We will convert the `city_name` and `weather_main` columns to numeric values using one-hot encoding. This will create a new column for each unique value in the original column, and fill it with `1` if the value is present and `0` if it is not. Let's do this now:"
   ],
   "id": "8c6dbb701e57e4ac"
  },
  {
   "metadata": {
    "colab": {
     "base_uri": "https://localhost:8080/",
     "height": 342
    },
    "id": "f0e484a0d1b00137",
    "outputId": "dd2b3159-6253-4a1e-d411-885cd2f41008"
   },
   "cell_type": "code",
   "source": [
    "# One-hot encode the city_name and weather_main columns\n",
    "weather_features = pd.get_dummies(weather_features, columns=['city_name', 'weather_main'])\n",
    "\n",
    "# Drop the weather_description column and the weather_icon column\n",
    "weather_features = weather_features.drop(columns=['weather_description', 'weather_icon'])\n",
    "\n",
    "# Look at the modified data\n",
    "weather_features.head()"
   ],
   "id": "f0e484a0d1b00137",
   "outputs": [],
   "execution_count": null
  },
  {
   "metadata": {
    "id": "5d6f6b1f905ce07a"
   },
   "cell_type": "markdown",
   "source": [
    "### Handling Missing Values\n",
    "\n",
    "One of the most common problems in real-world datasets is missing values. Missing values can cause problems when building machine learning models, so it is important to handle them properly. There are several ways to handle missing values, including:\n",
    "\n",
    "1. Removing rows or columns with missing values\n",
    "2. \"Imputing\" missing values by filling them in with a best guess\n",
    "3. Using a model that treats missing values as a separate category\n",
    "\n",
    "We are going to look at each of these methods in turn, and see how they affect the performance of a machine learning model.\n",
    "\n",
    "### Removing Rows with Missing Values\n",
    "\n",
    "The simplest way to handle missing values is to remove any rows that contain missing values. This is a quick and easy way to handle missing values, but it can also lead to a loss of information. Pandas makes it easy to remove rows with missing values using the `dropna()` method. Let's see how this affects the energy demand dataset:"
   ],
   "id": "5d6f6b1f905ce07a"
  },
  {
   "metadata": {
    "colab": {
     "base_uri": "https://localhost:8080/"
    },
    "id": "31c600b5bdd4ca5f",
    "outputId": "98e25a7e-edd2-4acf-e0ad-61a87fddfc0d"
   },
   "cell_type": "code",
   "source": [
    "# Remove rows with missing values\n",
    "energy_dataset_dropped = energy_dataset.dropna()\n",
    "\n",
    "# Look at the shape of the original and modified data\n",
    "print(f'Original data shape: {energy_dataset.shape}')\n",
    "print(f'Modified data shape: {energy_dataset_dropped.shape}')"
   ],
   "id": "31c600b5bdd4ca5f",
   "outputs": [],
   "execution_count": null
  },
  {
   "metadata": {
    "id": "30e84300d8de8789"
   },
   "cell_type": "markdown",
   "source": [
    "...whoops! It looks like we have lost the significant majority of our dataset with this approach. If we inspect the data further, we can see which columns contain a significant number of missing values:"
   ],
   "id": "30e84300d8de8789"
  },
  {
   "metadata": {
    "colab": {
     "base_uri": "https://localhost:8080/",
     "height": 806
    },
    "id": "cb320a5215ea5fd8",
    "outputId": "d37f1c22-3188-4341-cd33-528f881aa38a"
   },
   "cell_type": "code",
   "source": [
    "# Report the number of missing values by column\n",
    "missing_values = energy_dataset.isnull().sum()\n",
    "missing_values = missing_values[missing_values > 0]\n",
    "missing_values"
   ],
   "id": "cb320a5215ea5fd8",
   "outputs": [],
   "execution_count": null
  },
  {
   "metadata": {
    "id": "d4368a6dd3f41037"
   },
   "cell_type": "markdown",
   "source": [
    "As indicated earlier by ydata profiling, we can see that there are a number of columns which don't contain any information. We can remove these columns and then try removing rows with missing values again:"
   ],
   "id": "d4368a6dd3f41037"
  },
  {
   "metadata": {
    "id": "7674d7282ab0981c"
   },
   "cell_type": "code",
   "source": [
    "missing_columns = [\n",
    "    'generation fossil coal-derived gas',\n",
    "    'generation fossil oil shale',\n",
    "    'generation fossil peat',\n",
    "    'generation geothermal',\n",
    "    'generation hydro pumped storage aggregated',\n",
    "    'generation marine',\n",
    "    'generation wind offshore',\n",
    "    'forecast wind offshore eday ahead'\n",
    "]"
   ],
   "id": "7674d7282ab0981c",
   "outputs": [],
   "execution_count": null
  },
  {
   "metadata": {
    "colab": {
     "base_uri": "https://localhost:8080/"
    },
    "id": "b2ea5327008f4fde",
    "outputId": "99c29de4-7d1f-4e47-fc59-505a104a276c"
   },
   "cell_type": "code",
   "source": [
    "# Remove columns with a large number of missing values (and non-numeric columns)\n",
    "energy_dataset_removed = energy_dataset.drop(columns=missing_columns)\n",
    "\n",
    "# Remove rows with missing values\n",
    "energy_dataset_removed = energy_dataset_removed.dropna()\n",
    "\n",
    "# Look at the shape of the original and modified data\n",
    "print(f'Original data shape: {energy_dataset.shape}')\n",
    "print(f'Modified data shape: {energy_dataset_removed.shape}')"
   ],
   "id": "b2ea5327008f4fde",
   "outputs": [],
   "execution_count": null
  },
  {
   "metadata": {
    "id": "45db52ed14500b35"
   },
   "cell_type": "markdown",
   "source": [
    "Okay, that loss of data is a bit easier to work with. We now know that every row in the dataset has complete information. There's an obvious tradeoff here, in that we have to decide whether it is better to have more data with missing values, or less data with complete information. However, there's also a slightly more subtle risk that this approach introduces. Can you think of what it might be? We'll come back to it later.\n",
    "\n",
    "For now, let's build a very simple machine learning model to predict the current weather type based on the current energy generation. This is flipped from what you might have expected we would do! We will use a Random Forest model, which is a type of ensemble model that is easy to use and often performs well. We will use the `RandomForestClassifier` class from Scikit-Learn to build the model. Let's start by loading the data and splitting it into features and labels:"
   ],
   "id": "45db52ed14500b35"
  },
  {
   "metadata": {
    "id": "24554553fea40c92"
   },
   "cell_type": "code",
   "source": [
    "from sklearn.ensemble import RandomForestClassifier\n",
    "from sklearn.model_selection import train_test_split\n",
    "\n",
    "# Merge energy demand and weather by time\n",
    "df = pd.merge(energy_dataset_removed, weather_features, on='time', how='inner')\n",
    "\n",
    "# Split the data into features and labels\n",
    "X = df[['generation biomass', 'generation fossil brown coal/lignite',\n",
    "        'generation fossil gas',\n",
    "        'generation fossil hard coal', 'generation fossil oil',\n",
    "        'generation hydro pumped storage consumption',\n",
    "        'generation hydro run-of-river and poundage',\n",
    "        'generation hydro water reservoir',\n",
    "        'generation nuclear', 'generation other', 'generation other renewable',\n",
    "        'generation solar', 'generation waste',\n",
    "        'generation wind onshore']]\n",
    "\n",
    "y = df[[column for column in df.columns if column.startswith('weather_main')]]"
   ],
   "id": "24554553fea40c92",
   "outputs": [],
   "execution_count": null
  },
  {
   "metadata": {
    "colab": {
     "base_uri": "https://localhost:8080/"
    },
    "id": "870f792835b40f1e",
    "outputId": "95da90a6-c214-44ab-864b-6a6876911a8e"
   },
   "cell_type": "code",
   "source": [
    "# Split the data into training and testing sets (80% training, 20% testing)\n",
    "X_train, X_test, y_train, y_test = train_test_split(X, y, test_size=0.2)\n",
    "\n",
    "# Reset indices\n",
    "X_train = X_train.reset_index(drop=True)\n",
    "X_test = X_test.reset_index(drop=True)\n",
    "y_train = y_train.reset_index(drop=True)\n",
    "y_test = y_test.reset_index(drop=True)\n",
    "\n",
    "print(f'X_train shape: {X_train.shape}')\n",
    "print(f'X_test shape: {X_test.shape}')\n",
    "print(f'y_train shape: {y_train.shape}')\n",
    "print(f'y_test shape: {y_test.shape}')"
   ],
   "id": "870f792835b40f1e",
   "outputs": [],
   "execution_count": null
  },
  {
   "metadata": {
    "colab": {
     "base_uri": "https://localhost:8080/"
    },
    "id": "8817efef5f5a947f",
    "outputId": "1711deaa-95c9-4450-c99d-babbfc179c94"
   },
   "cell_type": "code",
   "source": [
    "from sklearn.metrics import accuracy_score\n",
    "from time import time\n",
    "\n",
    "# Train a Random Forest model\n",
    "model = RandomForestClassifier(n_jobs=-1)\n",
    "\n",
    "# Fit the model to the training data\n",
    "print('Fitting model...')\n",
    "start_time = time()\n",
    "model.fit(X_train, y_train)\n",
    "print(f'Model fit in {time() - start_time:.0f} seconds')\n",
    "\n",
    "# Evaluate the model on the testing data\n",
    "print('Evaluating model...')\n",
    "predictions = model.predict(X_test)\n",
    "accuracy = accuracy_score(y_test, predictions)\n",
    "\n",
    "print(f'Model accuracy: {accuracy*100:.2f}%')"
   ],
   "id": "8817efef5f5a947f",
   "outputs": [],
   "execution_count": null
  },
  {
   "metadata": {
    "id": "505186a448304567"
   },
   "cell_type": "markdown",
   "source": [
    "There is a bit of randomness here based on how we split the data, but hopefully you should see an accuracy of around 44%. This is not bad! Consider that we have 12 different weather types, so if we were just guessing randomly, we would expect an accuracy of around 8%. This is a significant improvement over random guessing.\n",
    "\n",
    "Since we have 12 different types of weather, it's likely that the model is better at predicting some than it is for others. We can break down the accuracy by weather type to get a sense of how well the model is performing for each type:"
   ],
   "id": "505186a448304567"
  },
  {
   "metadata": {
    "colab": {
     "base_uri": "https://localhost:8080/"
    },
    "id": "ad3535a5c41dd327",
    "outputId": "cb008a8d-6254-47e5-afaa-dcf327f68a30"
   },
   "cell_type": "code",
   "source": [
    "import numpy as np\n",
    "\n",
    "print(\"Column                    | Count | Correct | Accuracy\")\n",
    "print(\"--------------------------|-------|---------|---------\")\n",
    "for i, column in enumerate(y_test.columns):\n",
    "    count = y_test[column].sum()\n",
    "    indices = y_test[y_test[column]].index\n",
    "    predictions_for_column = predictions[indices]\n",
    "    correct = predictions_for_column[:, i].sum()\n",
    "    accuracy = correct / count if count > 0 else np.nan\n",
    "\n",
    "    print(f'{column:<25} | {count:<5} | {correct:<7} | {accuracy:.2f}')"
   ],
   "id": "ad3535a5c41dd327",
   "outputs": [],
   "execution_count": null
  },
  {
   "metadata": {
    "id": "759c532d03c1bdb8"
   },
   "cell_type": "markdown",
   "source": [
    "This is not good - we have just exposed a major flaw in our model. It seems like while there are numerous weather conditions that the model is able to predict, we have hardly any examples of weather outside of `clear`, `clouds`, and `rain`. This means that while our model is quite good at predicting `clear`, `clouds`, and `rain`, it is not very good at predicting any other weather type.\n",
    "\n",
    "We are going to try to address this by grouping together all weather conditions aside from those three into a single category called `weather_main_other`:"
   ],
   "id": "759c532d03c1bdb8"
  },
  {
   "metadata": {
    "id": "44fe028a19d0be4b"
   },
   "cell_type": "code",
   "source": [
    "y_grouped = y[['weather_main_clear', 'weather_main_clouds', 'weather_main_rain']].copy()\n",
    "y_grouped['weather_main_other'] = ~y_grouped.any(axis=1)"
   ],
   "id": "44fe028a19d0be4b",
   "outputs": [],
   "execution_count": null
  },
  {
   "metadata": {
    "colab": {
     "base_uri": "https://localhost:8080/",
     "height": 210
    },
    "id": "7212c77fc91f6300",
    "outputId": "c9fbe846-2db5-4cde-dc0a-3f0c2ded1ebd"
   },
   "cell_type": "code",
   "source": [
    "y_grouped.sum(axis=0)"
   ],
   "id": "7212c77fc91f6300",
   "outputs": [],
   "execution_count": null
  },
  {
   "metadata": {
    "id": "cb6f1c675b38da7"
   },
   "cell_type": "markdown",
   "source": [
    "This is looking much more balanced - we now have a good number of examples of each weather type. Let's retrain our model and see how it performs:"
   ],
   "id": "cb6f1c675b38da7"
  },
  {
   "metadata": {
    "colab": {
     "base_uri": "https://localhost:8080/"
    },
    "id": "a29e113d6f4e772",
    "outputId": "d5d72eaf-9f0a-488c-f2ca-783a486ff0d4"
   },
   "cell_type": "code",
   "source": [
    "# Split the data into training and testing sets (80% training, 20% testing)\n",
    "X_train, X_test, y_train, y_test = train_test_split(X, y_grouped, test_size=0.2)\n",
    "\n",
    "# Reset indices\n",
    "X_train = X_train.reset_index(drop=True)\n",
    "X_test = X_test.reset_index(drop=True)\n",
    "y_train = y_train.reset_index(drop=True)\n",
    "y_test = y_test.reset_index(drop=True)\n",
    "\n",
    "# Train a Random Forest model\n",
    "model = RandomForestClassifier()\n",
    "\n",
    "# Fit the model to the training data\n",
    "print('Fitting model...')\n",
    "start_time = time()\n",
    "model.fit(X_train, y_train)\n",
    "print(f'Model fit in {time() - start_time:.0f} seconds')\n",
    "\n",
    "# Evaluate the model on the testing data\n",
    "print('Evaluating model...')\n",
    "predictions = model.predict(X_test)\n",
    "accuracy = accuracy_score(y_test, predictions)\n",
    "\n",
    "print(f'Model accuracy: {accuracy*100:.2f}')"
   ],
   "id": "a29e113d6f4e772",
   "outputs": [],
   "execution_count": null
  },
  {
   "metadata": {
    "colab": {
     "base_uri": "https://localhost:8080/"
    },
    "id": "89eef7e8840f75b4",
    "outputId": "fb1fed6d-99f6-4ed2-b979-da19651b5e71"
   },
   "cell_type": "code",
   "source": [
    "print(\"Column                    | Count | Correct | Accuracy\")\n",
    "print(\"--------------------------|-------|---------|---------\")\n",
    "for i, column in enumerate(y_test.columns):\n",
    "    count = y_test[column].sum()\n",
    "    indices = y_test[y_test[column]].index\n",
    "    predictions_for_column = predictions[indices]\n",
    "    correct = predictions_for_column[:, i].sum()\n",
    "    accuracy = correct / count if count > 0 else np.nan\n",
    "\n",
    "    print(f'{column:<25} | {count:<5} | {correct:<7} | {accuracy:.4f}')"
   ],
   "id": "89eef7e8840f75b4",
   "outputs": [],
   "execution_count": null
  },
  {
   "metadata": {
    "id": "2968ac99926e25de"
   },
   "cell_type": "markdown",
   "source": [
    "Unfortunately, it looks like the model is still not performing well for the less common weather types. This is a common problem in machine learning, where the model is biased towards the most common classes. There are several ways to handle this, including:\n",
    "\n",
    "1. Collecting more data for the less common classes\n",
    "2. Using a different model that is better at handling imbalanced classes\n",
    "3. Using techniques like oversampling or undersampling to balance the classes\n",
    "\n",
    "We will look at some of these in more detail later in our workshop!\n",
    "\n"
   ],
   "id": "2968ac99926e25de"
  },
  {
   "metadata": {
    "id": "3957291a8fd16593"
   },
   "cell_type": "code",
   "source": [],
   "id": "3957291a8fd16593",
   "outputs": [],
   "execution_count": null
  }
 ],
 "metadata": {
  "kernelspec": {
   "display_name": "Python 3",
   "language": "python",
   "name": "python3"
  },
  "language_info": {
   "codemirror_mode": {
    "name": "ipython",
    "version": 2
   },
   "file_extension": ".py",
   "mimetype": "text/x-python",
   "name": "python",
   "nbconvert_exporter": "python",
   "pygments_lexer": "ipython2",
   "version": "2.7.6"
  },
  "colab": {
   "provenance": []
  },
  "widgets": {
   "application/vnd.jupyter.widget-state+json": {
    "66be74f6a8014db3adeb1470c0af8ddd": {
     "model_module": "@jupyter-widgets/controls",
     "model_name": "HBoxModel",
     "model_module_version": "1.5.0",
     "state": {
      "_dom_classes": [],
      "_model_module": "@jupyter-widgets/controls",
      "_model_module_version": "1.5.0",
      "_model_name": "HBoxModel",
      "_view_count": null,
      "_view_module": "@jupyter-widgets/controls",
      "_view_module_version": "1.5.0",
      "_view_name": "HBoxView",
      "box_style": "",
      "children": [
       "IPY_MODEL_46b6a92baa174f74a9079028863f598a",
       "IPY_MODEL_de1a4d889a0346f9a6a955d0760a8da9",
       "IPY_MODEL_831265b564004ad59ef7a8e0c438b9a9"
      ],
      "layout": "IPY_MODEL_cdbe01f612c94daea921909ffce25c89"
     }
    },
    "46b6a92baa174f74a9079028863f598a": {
     "model_module": "@jupyter-widgets/controls",
     "model_name": "HTMLModel",
     "model_module_version": "1.5.0",
     "state": {
      "_dom_classes": [],
      "_model_module": "@jupyter-widgets/controls",
      "_model_module_version": "1.5.0",
      "_model_name": "HTMLModel",
      "_view_count": null,
      "_view_module": "@jupyter-widgets/controls",
      "_view_module_version": "1.5.0",
      "_view_name": "HTMLView",
      "description": "",
      "description_tooltip": null,
      "layout": "IPY_MODEL_e908ebc4ed144abaa4c08a6867e5e3df",
      "placeholder": "​",
      "style": "IPY_MODEL_0a7beb4dcd304749bc261d99d3f1591a",
      "value": "Summarize dataset: 100%"
     }
    },
    "de1a4d889a0346f9a6a955d0760a8da9": {
     "model_module": "@jupyter-widgets/controls",
     "model_name": "FloatProgressModel",
     "model_module_version": "1.5.0",
     "state": {
      "_dom_classes": [],
      "_model_module": "@jupyter-widgets/controls",
      "_model_module_version": "1.5.0",
      "_model_name": "FloatProgressModel",
      "_view_count": null,
      "_view_module": "@jupyter-widgets/controls",
      "_view_module_version": "1.5.0",
      "_view_name": "ProgressView",
      "bar_style": "success",
      "description": "",
      "description_tooltip": null,
      "layout": "IPY_MODEL_91a7139c12ae49c2b532230fbd2699e3",
      "max": 5,
      "min": 0,
      "orientation": "horizontal",
      "style": "IPY_MODEL_10d7774495d94e29ba42c007688bfcc7",
      "value": 5
     }
    },
    "831265b564004ad59ef7a8e0c438b9a9": {
     "model_module": "@jupyter-widgets/controls",
     "model_name": "HTMLModel",
     "model_module_version": "1.5.0",
     "state": {
      "_dom_classes": [],
      "_model_module": "@jupyter-widgets/controls",
      "_model_module_version": "1.5.0",
      "_model_name": "HTMLModel",
      "_view_count": null,
      "_view_module": "@jupyter-widgets/controls",
      "_view_module_version": "1.5.0",
      "_view_name": "HTMLView",
      "description": "",
      "description_tooltip": null,
      "layout": "IPY_MODEL_ccab7ba55a4146bd85b2530b7ae54b9b",
      "placeholder": "​",
      "style": "IPY_MODEL_13249176b4964b37ab5fe67a21fe5582",
      "value": " 481/481 [02:21&lt;00:00,  1.55it/s, Completed]"
     }
    },
    "cdbe01f612c94daea921909ffce25c89": {
     "model_module": "@jupyter-widgets/base",
     "model_name": "LayoutModel",
     "model_module_version": "1.2.0",
     "state": {
      "_model_module": "@jupyter-widgets/base",
      "_model_module_version": "1.2.0",
      "_model_name": "LayoutModel",
      "_view_count": null,
      "_view_module": "@jupyter-widgets/base",
      "_view_module_version": "1.2.0",
      "_view_name": "LayoutView",
      "align_content": null,
      "align_items": null,
      "align_self": null,
      "border": null,
      "bottom": null,
      "display": null,
      "flex": null,
      "flex_flow": null,
      "grid_area": null,
      "grid_auto_columns": null,
      "grid_auto_flow": null,
      "grid_auto_rows": null,
      "grid_column": null,
      "grid_gap": null,
      "grid_row": null,
      "grid_template_areas": null,
      "grid_template_columns": null,
      "grid_template_rows": null,
      "height": null,
      "justify_content": null,
      "justify_items": null,
      "left": null,
      "margin": null,
      "max_height": null,
      "max_width": null,
      "min_height": null,
      "min_width": null,
      "object_fit": null,
      "object_position": null,
      "order": null,
      "overflow": null,
      "overflow_x": null,
      "overflow_y": null,
      "padding": null,
      "right": null,
      "top": null,
      "visibility": null,
      "width": null
     }
    },
    "e908ebc4ed144abaa4c08a6867e5e3df": {
     "model_module": "@jupyter-widgets/base",
     "model_name": "LayoutModel",
     "model_module_version": "1.2.0",
     "state": {
      "_model_module": "@jupyter-widgets/base",
      "_model_module_version": "1.2.0",
      "_model_name": "LayoutModel",
      "_view_count": null,
      "_view_module": "@jupyter-widgets/base",
      "_view_module_version": "1.2.0",
      "_view_name": "LayoutView",
      "align_content": null,
      "align_items": null,
      "align_self": null,
      "border": null,
      "bottom": null,
      "display": null,
      "flex": null,
      "flex_flow": null,
      "grid_area": null,
      "grid_auto_columns": null,
      "grid_auto_flow": null,
      "grid_auto_rows": null,
      "grid_column": null,
      "grid_gap": null,
      "grid_row": null,
      "grid_template_areas": null,
      "grid_template_columns": null,
      "grid_template_rows": null,
      "height": null,
      "justify_content": null,
      "justify_items": null,
      "left": null,
      "margin": null,
      "max_height": null,
      "max_width": null,
      "min_height": null,
      "min_width": null,
      "object_fit": null,
      "object_position": null,
      "order": null,
      "overflow": null,
      "overflow_x": null,
      "overflow_y": null,
      "padding": null,
      "right": null,
      "top": null,
      "visibility": null,
      "width": null
     }
    },
    "0a7beb4dcd304749bc261d99d3f1591a": {
     "model_module": "@jupyter-widgets/controls",
     "model_name": "DescriptionStyleModel",
     "model_module_version": "1.5.0",
     "state": {
      "_model_module": "@jupyter-widgets/controls",
      "_model_module_version": "1.5.0",
      "_model_name": "DescriptionStyleModel",
      "_view_count": null,
      "_view_module": "@jupyter-widgets/base",
      "_view_module_version": "1.2.0",
      "_view_name": "StyleView",
      "description_width": ""
     }
    },
    "91a7139c12ae49c2b532230fbd2699e3": {
     "model_module": "@jupyter-widgets/base",
     "model_name": "LayoutModel",
     "model_module_version": "1.2.0",
     "state": {
      "_model_module": "@jupyter-widgets/base",
      "_model_module_version": "1.2.0",
      "_model_name": "LayoutModel",
      "_view_count": null,
      "_view_module": "@jupyter-widgets/base",
      "_view_module_version": "1.2.0",
      "_view_name": "LayoutView",
      "align_content": null,
      "align_items": null,
      "align_self": null,
      "border": null,
      "bottom": null,
      "display": null,
      "flex": null,
      "flex_flow": null,
      "grid_area": null,
      "grid_auto_columns": null,
      "grid_auto_flow": null,
      "grid_auto_rows": null,
      "grid_column": null,
      "grid_gap": null,
      "grid_row": null,
      "grid_template_areas": null,
      "grid_template_columns": null,
      "grid_template_rows": null,
      "height": null,
      "justify_content": null,
      "justify_items": null,
      "left": null,
      "margin": null,
      "max_height": null,
      "max_width": null,
      "min_height": null,
      "min_width": null,
      "object_fit": null,
      "object_position": null,
      "order": null,
      "overflow": null,
      "overflow_x": null,
      "overflow_y": null,
      "padding": null,
      "right": null,
      "top": null,
      "visibility": null,
      "width": null
     }
    },
    "10d7774495d94e29ba42c007688bfcc7": {
     "model_module": "@jupyter-widgets/controls",
     "model_name": "ProgressStyleModel",
     "model_module_version": "1.5.0",
     "state": {
      "_model_module": "@jupyter-widgets/controls",
      "_model_module_version": "1.5.0",
      "_model_name": "ProgressStyleModel",
      "_view_count": null,
      "_view_module": "@jupyter-widgets/base",
      "_view_module_version": "1.2.0",
      "_view_name": "StyleView",
      "bar_color": null,
      "description_width": ""
     }
    },
    "ccab7ba55a4146bd85b2530b7ae54b9b": {
     "model_module": "@jupyter-widgets/base",
     "model_name": "LayoutModel",
     "model_module_version": "1.2.0",
     "state": {
      "_model_module": "@jupyter-widgets/base",
      "_model_module_version": "1.2.0",
      "_model_name": "LayoutModel",
      "_view_count": null,
      "_view_module": "@jupyter-widgets/base",
      "_view_module_version": "1.2.0",
      "_view_name": "LayoutView",
      "align_content": null,
      "align_items": null,
      "align_self": null,
      "border": null,
      "bottom": null,
      "display": null,
      "flex": null,
      "flex_flow": null,
      "grid_area": null,
      "grid_auto_columns": null,
      "grid_auto_flow": null,
      "grid_auto_rows": null,
      "grid_column": null,
      "grid_gap": null,
      "grid_row": null,
      "grid_template_areas": null,
      "grid_template_columns": null,
      "grid_template_rows": null,
      "height": null,
      "justify_content": null,
      "justify_items": null,
      "left": null,
      "margin": null,
      "max_height": null,
      "max_width": null,
      "min_height": null,
      "min_width": null,
      "object_fit": null,
      "object_position": null,
      "order": null,
      "overflow": null,
      "overflow_x": null,
      "overflow_y": null,
      "padding": null,
      "right": null,
      "top": null,
      "visibility": null,
      "width": null
     }
    },
    "13249176b4964b37ab5fe67a21fe5582": {
     "model_module": "@jupyter-widgets/controls",
     "model_name": "DescriptionStyleModel",
     "model_module_version": "1.5.0",
     "state": {
      "_model_module": "@jupyter-widgets/controls",
      "_model_module_version": "1.5.0",
      "_model_name": "DescriptionStyleModel",
      "_view_count": null,
      "_view_module": "@jupyter-widgets/base",
      "_view_module_version": "1.2.0",
      "_view_name": "StyleView",
      "description_width": ""
     }
    },
    "b180e15be1b8449c989036b8102e8930": {
     "model_module": "@jupyter-widgets/controls",
     "model_name": "HBoxModel",
     "model_module_version": "1.5.0",
     "state": {
      "_dom_classes": [],
      "_model_module": "@jupyter-widgets/controls",
      "_model_module_version": "1.5.0",
      "_model_name": "HBoxModel",
      "_view_count": null,
      "_view_module": "@jupyter-widgets/controls",
      "_view_module_version": "1.5.0",
      "_view_name": "HBoxView",
      "box_style": "",
      "children": [
       "IPY_MODEL_0ca7336743fe40cd990aab721bca45b6",
       "IPY_MODEL_0c429c97cbb4413088873e3b2d5fe940",
       "IPY_MODEL_032d6c430ec0498e9d10e84604a4005e"
      ],
      "layout": "IPY_MODEL_a05f1467d86145c598f4251efd914d05"
     }
    },
    "0ca7336743fe40cd990aab721bca45b6": {
     "model_module": "@jupyter-widgets/controls",
     "model_name": "HTMLModel",
     "model_module_version": "1.5.0",
     "state": {
      "_dom_classes": [],
      "_model_module": "@jupyter-widgets/controls",
      "_model_module_version": "1.5.0",
      "_model_name": "HTMLModel",
      "_view_count": null,
      "_view_module": "@jupyter-widgets/controls",
      "_view_module_version": "1.5.0",
      "_view_name": "HTMLView",
      "description": "",
      "description_tooltip": null,
      "layout": "IPY_MODEL_9420cad022e84379b39d5db5f04a4a42",
      "placeholder": "​",
      "style": "IPY_MODEL_f4c50966d8c04e6ba5b2a3e3db20bf6c",
      "value": "Generate report structure: 100%"
     }
    },
    "0c429c97cbb4413088873e3b2d5fe940": {
     "model_module": "@jupyter-widgets/controls",
     "model_name": "FloatProgressModel",
     "model_module_version": "1.5.0",
     "state": {
      "_dom_classes": [],
      "_model_module": "@jupyter-widgets/controls",
      "_model_module_version": "1.5.0",
      "_model_name": "FloatProgressModel",
      "_view_count": null,
      "_view_module": "@jupyter-widgets/controls",
      "_view_module_version": "1.5.0",
      "_view_name": "ProgressView",
      "bar_style": "success",
      "description": "",
      "description_tooltip": null,
      "layout": "IPY_MODEL_47d98efd78de441ba02b9f576007d2b0",
      "max": 1,
      "min": 0,
      "orientation": "horizontal",
      "style": "IPY_MODEL_8d46e2432a564a41851eab61df426ebe",
      "value": 1
     }
    },
    "032d6c430ec0498e9d10e84604a4005e": {
     "model_module": "@jupyter-widgets/controls",
     "model_name": "HTMLModel",
     "model_module_version": "1.5.0",
     "state": {
      "_dom_classes": [],
      "_model_module": "@jupyter-widgets/controls",
      "_model_module_version": "1.5.0",
      "_model_name": "HTMLModel",
      "_view_count": null,
      "_view_module": "@jupyter-widgets/controls",
      "_view_module_version": "1.5.0",
      "_view_name": "HTMLView",
      "description": "",
      "description_tooltip": null,
      "layout": "IPY_MODEL_bedae0d98fcb440e9f4faf59558ccd64",
      "placeholder": "​",
      "style": "IPY_MODEL_1a706ea8fd224571874134c4cf0e9f01",
      "value": " 1/1 [00:20&lt;00:00, 20.69s/it]"
     }
    },
    "a05f1467d86145c598f4251efd914d05": {
     "model_module": "@jupyter-widgets/base",
     "model_name": "LayoutModel",
     "model_module_version": "1.2.0",
     "state": {
      "_model_module": "@jupyter-widgets/base",
      "_model_module_version": "1.2.0",
      "_model_name": "LayoutModel",
      "_view_count": null,
      "_view_module": "@jupyter-widgets/base",
      "_view_module_version": "1.2.0",
      "_view_name": "LayoutView",
      "align_content": null,
      "align_items": null,
      "align_self": null,
      "border": null,
      "bottom": null,
      "display": null,
      "flex": null,
      "flex_flow": null,
      "grid_area": null,
      "grid_auto_columns": null,
      "grid_auto_flow": null,
      "grid_auto_rows": null,
      "grid_column": null,
      "grid_gap": null,
      "grid_row": null,
      "grid_template_areas": null,
      "grid_template_columns": null,
      "grid_template_rows": null,
      "height": null,
      "justify_content": null,
      "justify_items": null,
      "left": null,
      "margin": null,
      "max_height": null,
      "max_width": null,
      "min_height": null,
      "min_width": null,
      "object_fit": null,
      "object_position": null,
      "order": null,
      "overflow": null,
      "overflow_x": null,
      "overflow_y": null,
      "padding": null,
      "right": null,
      "top": null,
      "visibility": null,
      "width": null
     }
    },
    "9420cad022e84379b39d5db5f04a4a42": {
     "model_module": "@jupyter-widgets/base",
     "model_name": "LayoutModel",
     "model_module_version": "1.2.0",
     "state": {
      "_model_module": "@jupyter-widgets/base",
      "_model_module_version": "1.2.0",
      "_model_name": "LayoutModel",
      "_view_count": null,
      "_view_module": "@jupyter-widgets/base",
      "_view_module_version": "1.2.0",
      "_view_name": "LayoutView",
      "align_content": null,
      "align_items": null,
      "align_self": null,
      "border": null,
      "bottom": null,
      "display": null,
      "flex": null,
      "flex_flow": null,
      "grid_area": null,
      "grid_auto_columns": null,
      "grid_auto_flow": null,
      "grid_auto_rows": null,
      "grid_column": null,
      "grid_gap": null,
      "grid_row": null,
      "grid_template_areas": null,
      "grid_template_columns": null,
      "grid_template_rows": null,
      "height": null,
      "justify_content": null,
      "justify_items": null,
      "left": null,
      "margin": null,
      "max_height": null,
      "max_width": null,
      "min_height": null,
      "min_width": null,
      "object_fit": null,
      "object_position": null,
      "order": null,
      "overflow": null,
      "overflow_x": null,
      "overflow_y": null,
      "padding": null,
      "right": null,
      "top": null,
      "visibility": null,
      "width": null
     }
    },
    "f4c50966d8c04e6ba5b2a3e3db20bf6c": {
     "model_module": "@jupyter-widgets/controls",
     "model_name": "DescriptionStyleModel",
     "model_module_version": "1.5.0",
     "state": {
      "_model_module": "@jupyter-widgets/controls",
      "_model_module_version": "1.5.0",
      "_model_name": "DescriptionStyleModel",
      "_view_count": null,
      "_view_module": "@jupyter-widgets/base",
      "_view_module_version": "1.2.0",
      "_view_name": "StyleView",
      "description_width": ""
     }
    },
    "47d98efd78de441ba02b9f576007d2b0": {
     "model_module": "@jupyter-widgets/base",
     "model_name": "LayoutModel",
     "model_module_version": "1.2.0",
     "state": {
      "_model_module": "@jupyter-widgets/base",
      "_model_module_version": "1.2.0",
      "_model_name": "LayoutModel",
      "_view_count": null,
      "_view_module": "@jupyter-widgets/base",
      "_view_module_version": "1.2.0",
      "_view_name": "LayoutView",
      "align_content": null,
      "align_items": null,
      "align_self": null,
      "border": null,
      "bottom": null,
      "display": null,
      "flex": null,
      "flex_flow": null,
      "grid_area": null,
      "grid_auto_columns": null,
      "grid_auto_flow": null,
      "grid_auto_rows": null,
      "grid_column": null,
      "grid_gap": null,
      "grid_row": null,
      "grid_template_areas": null,
      "grid_template_columns": null,
      "grid_template_rows": null,
      "height": null,
      "justify_content": null,
      "justify_items": null,
      "left": null,
      "margin": null,
      "max_height": null,
      "max_width": null,
      "min_height": null,
      "min_width": null,
      "object_fit": null,
      "object_position": null,
      "order": null,
      "overflow": null,
      "overflow_x": null,
      "overflow_y": null,
      "padding": null,
      "right": null,
      "top": null,
      "visibility": null,
      "width": null
     }
    },
    "8d46e2432a564a41851eab61df426ebe": {
     "model_module": "@jupyter-widgets/controls",
     "model_name": "ProgressStyleModel",
     "model_module_version": "1.5.0",
     "state": {
      "_model_module": "@jupyter-widgets/controls",
      "_model_module_version": "1.5.0",
      "_model_name": "ProgressStyleModel",
      "_view_count": null,
      "_view_module": "@jupyter-widgets/base",
      "_view_module_version": "1.2.0",
      "_view_name": "StyleView",
      "bar_color": null,
      "description_width": ""
     }
    },
    "bedae0d98fcb440e9f4faf59558ccd64": {
     "model_module": "@jupyter-widgets/base",
     "model_name": "LayoutModel",
     "model_module_version": "1.2.0",
     "state": {
      "_model_module": "@jupyter-widgets/base",
      "_model_module_version": "1.2.0",
      "_model_name": "LayoutModel",
      "_view_count": null,
      "_view_module": "@jupyter-widgets/base",
      "_view_module_version": "1.2.0",
      "_view_name": "LayoutView",
      "align_content": null,
      "align_items": null,
      "align_self": null,
      "border": null,
      "bottom": null,
      "display": null,
      "flex": null,
      "flex_flow": null,
      "grid_area": null,
      "grid_auto_columns": null,
      "grid_auto_flow": null,
      "grid_auto_rows": null,
      "grid_column": null,
      "grid_gap": null,
      "grid_row": null,
      "grid_template_areas": null,
      "grid_template_columns": null,
      "grid_template_rows": null,
      "height": null,
      "justify_content": null,
      "justify_items": null,
      "left": null,
      "margin": null,
      "max_height": null,
      "max_width": null,
      "min_height": null,
      "min_width": null,
      "object_fit": null,
      "object_position": null,
      "order": null,
      "overflow": null,
      "overflow_x": null,
      "overflow_y": null,
      "padding": null,
      "right": null,
      "top": null,
      "visibility": null,
      "width": null
     }
    },
    "1a706ea8fd224571874134c4cf0e9f01": {
     "model_module": "@jupyter-widgets/controls",
     "model_name": "DescriptionStyleModel",
     "model_module_version": "1.5.0",
     "state": {
      "_model_module": "@jupyter-widgets/controls",
      "_model_module_version": "1.5.0",
      "_model_name": "DescriptionStyleModel",
      "_view_count": null,
      "_view_module": "@jupyter-widgets/base",
      "_view_module_version": "1.2.0",
      "_view_name": "StyleView",
      "description_width": ""
     }
    },
    "a92088bb235d44bd8694789c504ea860": {
     "model_module": "@jupyter-widgets/controls",
     "model_name": "HBoxModel",
     "model_module_version": "1.5.0",
     "state": {
      "_dom_classes": [],
      "_model_module": "@jupyter-widgets/controls",
      "_model_module_version": "1.5.0",
      "_model_name": "HBoxModel",
      "_view_count": null,
      "_view_module": "@jupyter-widgets/controls",
      "_view_module_version": "1.5.0",
      "_view_name": "HBoxView",
      "box_style": "",
      "children": [
       "IPY_MODEL_b6af65ca3a424b52af1d043663842300",
       "IPY_MODEL_ff34f02c54ff48cb8d12d2725ec77bcc",
       "IPY_MODEL_0c900d680ad94e55b52b6a90a6727917"
      ],
      "layout": "IPY_MODEL_2a327caa2e81489f8f7222c613b346c7"
     }
    },
    "b6af65ca3a424b52af1d043663842300": {
     "model_module": "@jupyter-widgets/controls",
     "model_name": "HTMLModel",
     "model_module_version": "1.5.0",
     "state": {
      "_dom_classes": [],
      "_model_module": "@jupyter-widgets/controls",
      "_model_module_version": "1.5.0",
      "_model_name": "HTMLModel",
      "_view_count": null,
      "_view_module": "@jupyter-widgets/controls",
      "_view_module_version": "1.5.0",
      "_view_name": "HTMLView",
      "description": "",
      "description_tooltip": null,
      "layout": "IPY_MODEL_9950913d48ae476ba23ea5eafca554f8",
      "placeholder": "​",
      "style": "IPY_MODEL_29bf23c8614741dba46433165db71b5a",
      "value": "Render HTML: 100%"
     }
    },
    "ff34f02c54ff48cb8d12d2725ec77bcc": {
     "model_module": "@jupyter-widgets/controls",
     "model_name": "FloatProgressModel",
     "model_module_version": "1.5.0",
     "state": {
      "_dom_classes": [],
      "_model_module": "@jupyter-widgets/controls",
      "_model_module_version": "1.5.0",
      "_model_name": "FloatProgressModel",
      "_view_count": null,
      "_view_module": "@jupyter-widgets/controls",
      "_view_module_version": "1.5.0",
      "_view_name": "ProgressView",
      "bar_style": "success",
      "description": "",
      "description_tooltip": null,
      "layout": "IPY_MODEL_f731f007f217413cbc900e4efabb851e",
      "max": 1,
      "min": 0,
      "orientation": "horizontal",
      "style": "IPY_MODEL_50ab11adf714450e8a5ac4f66f11b811",
      "value": 1
     }
    },
    "0c900d680ad94e55b52b6a90a6727917": {
     "model_module": "@jupyter-widgets/controls",
     "model_name": "HTMLModel",
     "model_module_version": "1.5.0",
     "state": {
      "_dom_classes": [],
      "_model_module": "@jupyter-widgets/controls",
      "_model_module_version": "1.5.0",
      "_model_name": "HTMLModel",
      "_view_count": null,
      "_view_module": "@jupyter-widgets/controls",
      "_view_module_version": "1.5.0",
      "_view_name": "HTMLView",
      "description": "",
      "description_tooltip": null,
      "layout": "IPY_MODEL_7d76b1f2d0624de4ba385398c315bc8c",
      "placeholder": "​",
      "style": "IPY_MODEL_a4bfab0cac3542ecbf86d51b9e985677",
      "value": " 1/1 [00:16&lt;00:00, 16.10s/it]"
     }
    },
    "2a327caa2e81489f8f7222c613b346c7": {
     "model_module": "@jupyter-widgets/base",
     "model_name": "LayoutModel",
     "model_module_version": "1.2.0",
     "state": {
      "_model_module": "@jupyter-widgets/base",
      "_model_module_version": "1.2.0",
      "_model_name": "LayoutModel",
      "_view_count": null,
      "_view_module": "@jupyter-widgets/base",
      "_view_module_version": "1.2.0",
      "_view_name": "LayoutView",
      "align_content": null,
      "align_items": null,
      "align_self": null,
      "border": null,
      "bottom": null,
      "display": null,
      "flex": null,
      "flex_flow": null,
      "grid_area": null,
      "grid_auto_columns": null,
      "grid_auto_flow": null,
      "grid_auto_rows": null,
      "grid_column": null,
      "grid_gap": null,
      "grid_row": null,
      "grid_template_areas": null,
      "grid_template_columns": null,
      "grid_template_rows": null,
      "height": null,
      "justify_content": null,
      "justify_items": null,
      "left": null,
      "margin": null,
      "max_height": null,
      "max_width": null,
      "min_height": null,
      "min_width": null,
      "object_fit": null,
      "object_position": null,
      "order": null,
      "overflow": null,
      "overflow_x": null,
      "overflow_y": null,
      "padding": null,
      "right": null,
      "top": null,
      "visibility": null,
      "width": null
     }
    },
    "9950913d48ae476ba23ea5eafca554f8": {
     "model_module": "@jupyter-widgets/base",
     "model_name": "LayoutModel",
     "model_module_version": "1.2.0",
     "state": {
      "_model_module": "@jupyter-widgets/base",
      "_model_module_version": "1.2.0",
      "_model_name": "LayoutModel",
      "_view_count": null,
      "_view_module": "@jupyter-widgets/base",
      "_view_module_version": "1.2.0",
      "_view_name": "LayoutView",
      "align_content": null,
      "align_items": null,
      "align_self": null,
      "border": null,
      "bottom": null,
      "display": null,
      "flex": null,
      "flex_flow": null,
      "grid_area": null,
      "grid_auto_columns": null,
      "grid_auto_flow": null,
      "grid_auto_rows": null,
      "grid_column": null,
      "grid_gap": null,
      "grid_row": null,
      "grid_template_areas": null,
      "grid_template_columns": null,
      "grid_template_rows": null,
      "height": null,
      "justify_content": null,
      "justify_items": null,
      "left": null,
      "margin": null,
      "max_height": null,
      "max_width": null,
      "min_height": null,
      "min_width": null,
      "object_fit": null,
      "object_position": null,
      "order": null,
      "overflow": null,
      "overflow_x": null,
      "overflow_y": null,
      "padding": null,
      "right": null,
      "top": null,
      "visibility": null,
      "width": null
     }
    },
    "29bf23c8614741dba46433165db71b5a": {
     "model_module": "@jupyter-widgets/controls",
     "model_name": "DescriptionStyleModel",
     "model_module_version": "1.5.0",
     "state": {
      "_model_module": "@jupyter-widgets/controls",
      "_model_module_version": "1.5.0",
      "_model_name": "DescriptionStyleModel",
      "_view_count": null,
      "_view_module": "@jupyter-widgets/base",
      "_view_module_version": "1.2.0",
      "_view_name": "StyleView",
      "description_width": ""
     }
    },
    "f731f007f217413cbc900e4efabb851e": {
     "model_module": "@jupyter-widgets/base",
     "model_name": "LayoutModel",
     "model_module_version": "1.2.0",
     "state": {
      "_model_module": "@jupyter-widgets/base",
      "_model_module_version": "1.2.0",
      "_model_name": "LayoutModel",
      "_view_count": null,
      "_view_module": "@jupyter-widgets/base",
      "_view_module_version": "1.2.0",
      "_view_name": "LayoutView",
      "align_content": null,
      "align_items": null,
      "align_self": null,
      "border": null,
      "bottom": null,
      "display": null,
      "flex": null,
      "flex_flow": null,
      "grid_area": null,
      "grid_auto_columns": null,
      "grid_auto_flow": null,
      "grid_auto_rows": null,
      "grid_column": null,
      "grid_gap": null,
      "grid_row": null,
      "grid_template_areas": null,
      "grid_template_columns": null,
      "grid_template_rows": null,
      "height": null,
      "justify_content": null,
      "justify_items": null,
      "left": null,
      "margin": null,
      "max_height": null,
      "max_width": null,
      "min_height": null,
      "min_width": null,
      "object_fit": null,
      "object_position": null,
      "order": null,
      "overflow": null,
      "overflow_x": null,
      "overflow_y": null,
      "padding": null,
      "right": null,
      "top": null,
      "visibility": null,
      "width": null
     }
    },
    "50ab11adf714450e8a5ac4f66f11b811": {
     "model_module": "@jupyter-widgets/controls",
     "model_name": "ProgressStyleModel",
     "model_module_version": "1.5.0",
     "state": {
      "_model_module": "@jupyter-widgets/controls",
      "_model_module_version": "1.5.0",
      "_model_name": "ProgressStyleModel",
      "_view_count": null,
      "_view_module": "@jupyter-widgets/base",
      "_view_module_version": "1.2.0",
      "_view_name": "StyleView",
      "bar_color": null,
      "description_width": ""
     }
    },
    "7d76b1f2d0624de4ba385398c315bc8c": {
     "model_module": "@jupyter-widgets/base",
     "model_name": "LayoutModel",
     "model_module_version": "1.2.0",
     "state": {
      "_model_module": "@jupyter-widgets/base",
      "_model_module_version": "1.2.0",
      "_model_name": "LayoutModel",
      "_view_count": null,
      "_view_module": "@jupyter-widgets/base",
      "_view_module_version": "1.2.0",
      "_view_name": "LayoutView",
      "align_content": null,
      "align_items": null,
      "align_self": null,
      "border": null,
      "bottom": null,
      "display": null,
      "flex": null,
      "flex_flow": null,
      "grid_area": null,
      "grid_auto_columns": null,
      "grid_auto_flow": null,
      "grid_auto_rows": null,
      "grid_column": null,
      "grid_gap": null,
      "grid_row": null,
      "grid_template_areas": null,
      "grid_template_columns": null,
      "grid_template_rows": null,
      "height": null,
      "justify_content": null,
      "justify_items": null,
      "left": null,
      "margin": null,
      "max_height": null,
      "max_width": null,
      "min_height": null,
      "min_width": null,
      "object_fit": null,
      "object_position": null,
      "order": null,
      "overflow": null,
      "overflow_x": null,
      "overflow_y": null,
      "padding": null,
      "right": null,
      "top": null,
      "visibility": null,
      "width": null
     }
    },
    "a4bfab0cac3542ecbf86d51b9e985677": {
     "model_module": "@jupyter-widgets/controls",
     "model_name": "DescriptionStyleModel",
     "model_module_version": "1.5.0",
     "state": {
      "_model_module": "@jupyter-widgets/controls",
      "_model_module_version": "1.5.0",
      "_model_name": "DescriptionStyleModel",
      "_view_count": null,
      "_view_module": "@jupyter-widgets/base",
      "_view_module_version": "1.2.0",
      "_view_name": "StyleView",
      "description_width": ""
     }
    },
    "4052af74354c4198ba7feeaa8e2c20cf": {
     "model_module": "@jupyter-widgets/controls",
     "model_name": "HBoxModel",
     "model_module_version": "1.5.0",
     "state": {
      "_dom_classes": [],
      "_model_module": "@jupyter-widgets/controls",
      "_model_module_version": "1.5.0",
      "_model_name": "HBoxModel",
      "_view_count": null,
      "_view_module": "@jupyter-widgets/controls",
      "_view_module_version": "1.5.0",
      "_view_name": "HBoxView",
      "box_style": "",
      "children": [
       "IPY_MODEL_f3fe3b082df3455eb2b5d29adec98bf9",
       "IPY_MODEL_f2dbdc4179924b9a8ebed1eb4e286c9e",
       "IPY_MODEL_5ad19bbeb30546dea6533f6ddef24836"
      ],
      "layout": "IPY_MODEL_e129cd9d204f42009146fdbc782cf3af"
     }
    },
    "f3fe3b082df3455eb2b5d29adec98bf9": {
     "model_module": "@jupyter-widgets/controls",
     "model_name": "HTMLModel",
     "model_module_version": "1.5.0",
     "state": {
      "_dom_classes": [],
      "_model_module": "@jupyter-widgets/controls",
      "_model_module_version": "1.5.0",
      "_model_name": "HTMLModel",
      "_view_count": null,
      "_view_module": "@jupyter-widgets/controls",
      "_view_module_version": "1.5.0",
      "_view_name": "HTMLView",
      "description": "",
      "description_tooltip": null,
      "layout": "IPY_MODEL_425c190f6fe04f3e9e5f95e38c9eeee2",
      "placeholder": "​",
      "style": "IPY_MODEL_416de6a5baf44b38b058c3487bbaec74",
      "value": "Export report to file: 100%"
     }
    },
    "f2dbdc4179924b9a8ebed1eb4e286c9e": {
     "model_module": "@jupyter-widgets/controls",
     "model_name": "FloatProgressModel",
     "model_module_version": "1.5.0",
     "state": {
      "_dom_classes": [],
      "_model_module": "@jupyter-widgets/controls",
      "_model_module_version": "1.5.0",
      "_model_name": "FloatProgressModel",
      "_view_count": null,
      "_view_module": "@jupyter-widgets/controls",
      "_view_module_version": "1.5.0",
      "_view_name": "ProgressView",
      "bar_style": "success",
      "description": "",
      "description_tooltip": null,
      "layout": "IPY_MODEL_36cae77d174a4476aa96a87fa51cbde7",
      "max": 1,
      "min": 0,
      "orientation": "horizontal",
      "style": "IPY_MODEL_79f04d82ee124c20bd02cdeb9186f055",
      "value": 1
     }
    },
    "5ad19bbeb30546dea6533f6ddef24836": {
     "model_module": "@jupyter-widgets/controls",
     "model_name": "HTMLModel",
     "model_module_version": "1.5.0",
     "state": {
      "_dom_classes": [],
      "_model_module": "@jupyter-widgets/controls",
      "_model_module_version": "1.5.0",
      "_model_name": "HTMLModel",
      "_view_count": null,
      "_view_module": "@jupyter-widgets/controls",
      "_view_module_version": "1.5.0",
      "_view_name": "HTMLView",
      "description": "",
      "description_tooltip": null,
      "layout": "IPY_MODEL_0b5387fbc3b64f4eb2c4de8cda53ddda",
      "placeholder": "​",
      "style": "IPY_MODEL_52805978a246479aa6ed7f03f6cb77ff",
      "value": " 1/1 [00:00&lt;00:00,  7.41it/s]"
     }
    },
    "e129cd9d204f42009146fdbc782cf3af": {
     "model_module": "@jupyter-widgets/base",
     "model_name": "LayoutModel",
     "model_module_version": "1.2.0",
     "state": {
      "_model_module": "@jupyter-widgets/base",
      "_model_module_version": "1.2.0",
      "_model_name": "LayoutModel",
      "_view_count": null,
      "_view_module": "@jupyter-widgets/base",
      "_view_module_version": "1.2.0",
      "_view_name": "LayoutView",
      "align_content": null,
      "align_items": null,
      "align_self": null,
      "border": null,
      "bottom": null,
      "display": null,
      "flex": null,
      "flex_flow": null,
      "grid_area": null,
      "grid_auto_columns": null,
      "grid_auto_flow": null,
      "grid_auto_rows": null,
      "grid_column": null,
      "grid_gap": null,
      "grid_row": null,
      "grid_template_areas": null,
      "grid_template_columns": null,
      "grid_template_rows": null,
      "height": null,
      "justify_content": null,
      "justify_items": null,
      "left": null,
      "margin": null,
      "max_height": null,
      "max_width": null,
      "min_height": null,
      "min_width": null,
      "object_fit": null,
      "object_position": null,
      "order": null,
      "overflow": null,
      "overflow_x": null,
      "overflow_y": null,
      "padding": null,
      "right": null,
      "top": null,
      "visibility": null,
      "width": null
     }
    },
    "425c190f6fe04f3e9e5f95e38c9eeee2": {
     "model_module": "@jupyter-widgets/base",
     "model_name": "LayoutModel",
     "model_module_version": "1.2.0",
     "state": {
      "_model_module": "@jupyter-widgets/base",
      "_model_module_version": "1.2.0",
      "_model_name": "LayoutModel",
      "_view_count": null,
      "_view_module": "@jupyter-widgets/base",
      "_view_module_version": "1.2.0",
      "_view_name": "LayoutView",
      "align_content": null,
      "align_items": null,
      "align_self": null,
      "border": null,
      "bottom": null,
      "display": null,
      "flex": null,
      "flex_flow": null,
      "grid_area": null,
      "grid_auto_columns": null,
      "grid_auto_flow": null,
      "grid_auto_rows": null,
      "grid_column": null,
      "grid_gap": null,
      "grid_row": null,
      "grid_template_areas": null,
      "grid_template_columns": null,
      "grid_template_rows": null,
      "height": null,
      "justify_content": null,
      "justify_items": null,
      "left": null,
      "margin": null,
      "max_height": null,
      "max_width": null,
      "min_height": null,
      "min_width": null,
      "object_fit": null,
      "object_position": null,
      "order": null,
      "overflow": null,
      "overflow_x": null,
      "overflow_y": null,
      "padding": null,
      "right": null,
      "top": null,
      "visibility": null,
      "width": null
     }
    },
    "416de6a5baf44b38b058c3487bbaec74": {
     "model_module": "@jupyter-widgets/controls",
     "model_name": "DescriptionStyleModel",
     "model_module_version": "1.5.0",
     "state": {
      "_model_module": "@jupyter-widgets/controls",
      "_model_module_version": "1.5.0",
      "_model_name": "DescriptionStyleModel",
      "_view_count": null,
      "_view_module": "@jupyter-widgets/base",
      "_view_module_version": "1.2.0",
      "_view_name": "StyleView",
      "description_width": ""
     }
    },
    "36cae77d174a4476aa96a87fa51cbde7": {
     "model_module": "@jupyter-widgets/base",
     "model_name": "LayoutModel",
     "model_module_version": "1.2.0",
     "state": {
      "_model_module": "@jupyter-widgets/base",
      "_model_module_version": "1.2.0",
      "_model_name": "LayoutModel",
      "_view_count": null,
      "_view_module": "@jupyter-widgets/base",
      "_view_module_version": "1.2.0",
      "_view_name": "LayoutView",
      "align_content": null,
      "align_items": null,
      "align_self": null,
      "border": null,
      "bottom": null,
      "display": null,
      "flex": null,
      "flex_flow": null,
      "grid_area": null,
      "grid_auto_columns": null,
      "grid_auto_flow": null,
      "grid_auto_rows": null,
      "grid_column": null,
      "grid_gap": null,
      "grid_row": null,
      "grid_template_areas": null,
      "grid_template_columns": null,
      "grid_template_rows": null,
      "height": null,
      "justify_content": null,
      "justify_items": null,
      "left": null,
      "margin": null,
      "max_height": null,
      "max_width": null,
      "min_height": null,
      "min_width": null,
      "object_fit": null,
      "object_position": null,
      "order": null,
      "overflow": null,
      "overflow_x": null,
      "overflow_y": null,
      "padding": null,
      "right": null,
      "top": null,
      "visibility": null,
      "width": null
     }
    },
    "79f04d82ee124c20bd02cdeb9186f055": {
     "model_module": "@jupyter-widgets/controls",
     "model_name": "ProgressStyleModel",
     "model_module_version": "1.5.0",
     "state": {
      "_model_module": "@jupyter-widgets/controls",
      "_model_module_version": "1.5.0",
      "_model_name": "ProgressStyleModel",
      "_view_count": null,
      "_view_module": "@jupyter-widgets/base",
      "_view_module_version": "1.2.0",
      "_view_name": "StyleView",
      "bar_color": null,
      "description_width": ""
     }
    },
    "0b5387fbc3b64f4eb2c4de8cda53ddda": {
     "model_module": "@jupyter-widgets/base",
     "model_name": "LayoutModel",
     "model_module_version": "1.2.0",
     "state": {
      "_model_module": "@jupyter-widgets/base",
      "_model_module_version": "1.2.0",
      "_model_name": "LayoutModel",
      "_view_count": null,
      "_view_module": "@jupyter-widgets/base",
      "_view_module_version": "1.2.0",
      "_view_name": "LayoutView",
      "align_content": null,
      "align_items": null,
      "align_self": null,
      "border": null,
      "bottom": null,
      "display": null,
      "flex": null,
      "flex_flow": null,
      "grid_area": null,
      "grid_auto_columns": null,
      "grid_auto_flow": null,
      "grid_auto_rows": null,
      "grid_column": null,
      "grid_gap": null,
      "grid_row": null,
      "grid_template_areas": null,
      "grid_template_columns": null,
      "grid_template_rows": null,
      "height": null,
      "justify_content": null,
      "justify_items": null,
      "left": null,
      "margin": null,
      "max_height": null,
      "max_width": null,
      "min_height": null,
      "min_width": null,
      "object_fit": null,
      "object_position": null,
      "order": null,
      "overflow": null,
      "overflow_x": null,
      "overflow_y": null,
      "padding": null,
      "right": null,
      "top": null,
      "visibility": null,
      "width": null
     }
    },
    "52805978a246479aa6ed7f03f6cb77ff": {
     "model_module": "@jupyter-widgets/controls",
     "model_name": "DescriptionStyleModel",
     "model_module_version": "1.5.0",
     "state": {
      "_model_module": "@jupyter-widgets/controls",
      "_model_module_version": "1.5.0",
      "_model_name": "DescriptionStyleModel",
      "_view_count": null,
      "_view_module": "@jupyter-widgets/base",
      "_view_module_version": "1.2.0",
      "_view_name": "StyleView",
      "description_width": ""
     }
    }
   }
  }
 },
 "nbformat": 4,
 "nbformat_minor": 5
}
